{
  "nbformat": 4,
  "nbformat_minor": 0,
  "metadata": {
    "colab": {
      "provenance": [],
      "gpuType": "T4"
    },
    "kernelspec": {
      "name": "python3",
      "display_name": "Python 3"
    },
    "language_info": {
      "name": "python"
    },
    "accelerator": "GPU"
  },
  "cells": [
    {
      "cell_type": "code",
      "execution_count": null,
      "metadata": {
        "colab": {
          "base_uri": "https://localhost:8080/"
        },
        "id": "aAMsN9LLbIN1",
        "outputId": "f37a0f91-0923-422b-bd06-9777ce8b9e69"
      },
      "outputs": [
        {
          "output_type": "stream",
          "name": "stdout",
          "text": [
            "Best solution: [2, 3, 4, 1, 0]\n",
            "Best cost: 9\n"
          ]
        }
      ],
      "source": [
        "import numpy as np\n",
        "\n",
        "class AntColonyOptimization:\n",
        "    def __init__(self, num_ants, num_iterations, alpha, beta, evaporation_rate, pheromone_deposit, initial_pheromone):\n",
        "        self.num_ants = num_ants\n",
        "        self.num_iterations = num_iterations\n",
        "        self.alpha = alpha\n",
        "        self.beta = beta\n",
        "        self.evaporation_rate = evaporation_rate\n",
        "        self.pheromone_deposit = pheromone_deposit\n",
        "        self.initial_pheromone = initial_pheromone\n",
        "\n",
        "    def initialize_pheromones(self, num_cities):\n",
        "        self.pheromones = np.full((num_cities, num_cities), self.initial_pheromone)\n",
        "\n",
        "    def calculate_probabilities(self, visibility, pheromones, current_city, visited):\n",
        "        probs = np.zeros(len(visibility))\n",
        "        denominator = 0\n",
        "        for i in range(len(visibility)):\n",
        "            if i not in visited:\n",
        "                denominator += (pheromones[current_city, i] ** self.alpha) * (visibility[current_city, i] ** self.beta)\n",
        "        for i in range(len(visibility)):\n",
        "            if i not in visited:\n",
        "                numerator = (pheromones[current_city, i] ** self.alpha) * (visibility[current_city, i] ** self.beta)\n",
        "                probs[i] = numerator / denominator\n",
        "        return probs\n",
        "\n",
        "    def construct_solution(self, distances, visibility):\n",
        "        num_cities = len(distances)\n",
        "        solutions = []\n",
        "        for _ in range(self.num_ants):\n",
        "            solution = []\n",
        "            visited = set()\n",
        "            current_city = np.random.randint(0, num_cities)\n",
        "            solution.append(current_city)\n",
        "            visited.add(current_city)\n",
        "            while len(visited) < num_cities:\n",
        "                probs = self.calculate_probabilities(visibility, self.pheromones, current_city, visited)\n",
        "                next_city = np.random.choice(range(num_cities), p=probs)\n",
        "                solution.append(next_city)\n",
        "                visited.add(next_city)\n",
        "                current_city = next_city\n",
        "            solutions.append(solution)\n",
        "        return solutions\n",
        "\n",
        "    def calculate_solution_cost(self, solution, distances):\n",
        "        cost = 0\n",
        "        for i in range(len(solution) - 1):\n",
        "            cost += distances[solution[i]][solution[i+1]]\n",
        "        cost += distances[solution[-1]][solution[0]]  # Return to starting city\n",
        "        return cost\n",
        "\n",
        "    def update_pheromones(self, solutions, distances):\n",
        "        self.pheromones *= (1 - self.evaporation_rate)\n",
        "        for solution in solutions:\n",
        "            cost = self.calculate_solution_cost(solution, distances)\n",
        "            for i in range(len(solution) - 1):\n",
        "                self.pheromones[solution[i]][solution[i+1]] += self.pheromone_deposit / cost\n",
        "            self.pheromones[solution[-1]][solution[0]] += self.pheromone_deposit / cost\n",
        "\n",
        "    def run(self, distances):\n",
        "        num_cities = len(distances)\n",
        "        visibility = 1 / (distances + np.eye(num_cities))  # Use the inverse of distance as visibility\n",
        "        self.initialize_pheromones(num_cities)\n",
        "        best_solution = None\n",
        "        best_cost = float('inf')\n",
        "\n",
        "        for _ in range(self.num_iterations):\n",
        "            solutions = self.construct_solution(distances, visibility)\n",
        "            self.update_pheromones(solutions, distances)\n",
        "            for solution in solutions:\n",
        "                cost = self.calculate_solution_cost(solution, distances)\n",
        "                if cost < best_cost:\n",
        "                    best_cost = cost\n",
        "                    best_solution = solution\n",
        "\n",
        "        return best_solution, best_cost\n",
        "\n",
        "# Example usage\n",
        "if __name__ == \"__main__\":\n",
        "    distances = np.array([\n",
        "        [0, 2, 2, 5, 7],\n",
        "        [2, 0, 4, 8, 2],\n",
        "        [2, 4, 0, 1, 3],\n",
        "        [5, 8, 1, 0, 2],\n",
        "        [7, 2, 3, 2, 0]\n",
        "    ])\n",
        "    aco = AntColonyOptimization(num_ants=10, num_iterations=100, alpha=1.0, beta=2.0, evaporation_rate=0.5, pheromone_deposit=100, initial_pheromone=0.1)\n",
        "    best_solution, best_cost = aco.run(distances)\n",
        "    print(\"Best solution:\", best_solution)\n",
        "    print(\"Best cost:\", best_cost)"
      ]
    },
    {
      "cell_type": "code",
      "source": [
        "import pandas as pd\n",
        "import numpy as np\n",
        "\n",
        "# Load the CSV files\n",
        "cities_coordinates = pd.read_csv('Geocoded_Bangalore.csv')\n",
        "cities_labels = pd.read_csv('clustered_data_BIRCH.csv')\n"
      ],
      "metadata": {
        "id": "q80dHhKNbrt0"
      },
      "execution_count": null,
      "outputs": []
    },
    {
      "cell_type": "code",
      "source": [
        "# Assuming both dataframes have a 'city' column to merge on\n",
        "cities_data = pd.merge(cities_coordinates, cities_labels, on='Area')\n"
      ],
      "metadata": {
        "id": "nmH55ppPedVi"
      },
      "execution_count": null,
      "outputs": []
    },
    {
      "cell_type": "code",
      "source": [
        "scarcity_cities = cities_data[cities_data['Cluster'] == 0]\n",
        "surplus_cities = cities_data[cities_data['Cluster'] == 2]\n"
      ],
      "metadata": {
        "id": "EWMR3PUZee7l"
      },
      "execution_count": null,
      "outputs": []
    },
    {
      "cell_type": "code",
      "source": [
        "from math import radians, cos, sin, sqrt, atan2\n",
        "\n",
        "def haversine(lat1, lon1, lat2, lon2):\n",
        "    # Convert latitude and longitude from degrees to radians\n",
        "    lat1, lon1, lat2, lon2 = map(radians, [lat1, lon1, lat2, lon2])\n",
        "\n",
        "    # Haversine formula\n",
        "    dlon = lon2 - lon1\n",
        "    dlat = lat2 - lat1\n",
        "    a = sin(dlat/2)**2 + cos(lat1) * cos(lat2) * sin(dlon/2)**2\n",
        "    c = 2 * atan2(sqrt(a), sqrt(1 - a))\n",
        "    r = 6371  # Radius of Earth in kilometers\n",
        "    return r * c\n",
        "\n",
        "# Initialize the distance matrix\n",
        "distance_matrix = np.zeros((len(surplus_cities), len(scarcity_cities)))\n",
        "\n",
        "# Populate the distance matrix\n",
        "x,y=0,0\n",
        "for i, surplus_city in surplus_cities.iterrows():\n",
        "    for j, scarcity_city in scarcity_cities.iterrows():\n",
        "        distance_matrix[x, y] = haversine(surplus_city['Latitude'], surplus_city['Longitude'],\n",
        "                                          scarcity_city['Latitude'], scarcity_city['Longitude'])\n",
        "        y+=1\n",
        "    x+=1\n",
        "    y=0\n",
        "\n",
        "print(distance_matrix)\n"
      ],
      "metadata": {
        "colab": {
          "base_uri": "https://localhost:8080/"
        },
        "id": "dUMzeOzIeglv",
        "outputId": "50a23cf8-d8c4-4ffa-953a-46bb2b5af4ec"
      },
      "execution_count": null,
      "outputs": [
        {
          "output_type": "stream",
          "name": "stdout",
          "text": [
            "[[2.99983589e+02 1.13916582e+04 1.15220327e+02 ... 2.94524789e+02\n",
            "  3.04179119e+02 3.08075174e+02]\n",
            " [3.46636965e+02 1.14783978e+04 2.43133779e+02 ... 2.94509676e+02\n",
            "  3.56839821e+02 3.24354231e+02]\n",
            " [1.92024476e+02 1.15835570e+04 2.66318014e+02 ... 1.18026970e+02\n",
            "  2.06626222e+02 1.51331398e+02]\n",
            " ...\n",
            " [1.67716697e+00 1.15698654e+04 2.91689903e+02 ... 1.19643640e+02\n",
            "  1.64437885e+01 8.01097094e+01]\n",
            " [1.64857557e+01 1.15547850e+04 2.76865187e+02 ... 1.27082671e+02\n",
            "  1.66861594e+01 9.04555846e+01]\n",
            " [3.90218207e+01 1.15976308e+04 3.02508788e+02 ... 7.90584721e+01\n",
            "  5.71370184e+01 4.03836046e+01]]\n"
          ]
        }
      ]
    },
    {
      "cell_type": "code",
      "source": [
        "distance_df = pd.DataFrame(distance_matrix, index=surplus_cities['Area'], columns=scarcity_cities['Area'])\n",
        "print(distance_df)\n"
      ],
      "metadata": {
        "id": "_fRUcl88ejVI",
        "colab": {
          "base_uri": "https://localhost:8080/"
        },
        "outputId": "a7b4dab2-b48e-4ee8-d6d1-e6417706a93c"
      },
      "execution_count": null,
      "outputs": [
        {
          "output_type": "stream",
          "name": "stdout",
          "text": [
            "Area         ISRO Layout  Old Airport Road      Hospet      Terdal  \\\n",
            "Area                                                                 \n",
            "Byadgi        299.983589      11391.658162  115.220327  205.092153   \n",
            "Bhatkal       346.636965      11478.397753  243.133779  283.645606   \n",
            "Sakleshpur    192.024476      11583.557045  266.318014  402.688239   \n",
            "Indiranagar    12.338280      11561.769671  288.586069  480.613898   \n",
            "Anekal         26.034749      11590.413393  317.704196  508.490051   \n",
            "...                  ...               ...         ...         ...   \n",
            "Mudigere      209.168813      11563.825924  250.432095  379.080920   \n",
            "Udupi         308.293621      11548.404565  277.516072  351.927401   \n",
            "Ilyas Nagar     1.677167      11569.865441  291.689903  482.311502   \n",
            "Jalahalli      16.485756      11554.784953  276.865187  468.297152   \n",
            "Anjanapura     39.021821      11597.630778  302.508788  486.462382   \n",
            "\n",
            "Area         Dodballapur  Chikballapur  Tumkur Road  Vijayanagar    Majestic  \\\n",
            "Area                                                                           \n",
            "Byadgi        272.680485    280.179346   272.669699   292.425210  295.283796   \n",
            "Bhatkal       333.184727    348.880368   323.064404   341.399923  345.026685   \n",
            "Sakleshpur    194.687310    217.435713   175.321026   189.577877  193.469267   \n",
            "Indiranagar    35.435219     51.465078    29.444439    11.387572    7.504253   \n",
            "Anekal         65.515130     80.005929    53.722069    34.602075   32.883589   \n",
            "...                  ...           ...          ...          ...         ...   \n",
            "Mudigere      207.251817    228.557682   190.161916   205.852164  209.716330   \n",
            "Udupi         303.403272    323.019832   288.209108   304.613307  308.449047   \n",
            "Ilyas Nagar    41.486759     60.492194    27.725644     8.463108    7.748999   \n",
            "Jalahalli      26.053186     46.929098    17.099877     7.878669    8.048774   \n",
            "Anjanapura     72.753695     96.509563    47.277237    43.208088   45.967537   \n",
            "\n",
            "Area         Cunningham Road  ...   Mangalore  Gadag-Betageri    Belagavi  \\\n",
            "Area                          ...                                           \n",
            "Byadgi            296.188554  ...  215.064709       82.256448  166.414181   \n",
            "Bhatkal           346.811053  ...  128.126120      197.450024  207.986469   \n",
            "Sakleshpur        195.868224  ...  102.559089      276.601837  352.075408   \n",
            "Indiranagar         5.418444  ...  303.402960      348.367017  465.498315   \n",
            "Anekal             33.253702  ...  310.252592      375.671208  490.800861   \n",
            "...                      ...  ...         ...             ...         ...   \n",
            "Mudigere          211.965496  ...   91.382677      254.976628  326.599383   \n",
            "Udupi             310.613427  ...   53.508871      250.521742  280.887474   \n",
            "Ilyas Nagar         9.495694  ...  295.540920      349.542459  465.174067   \n",
            "Jalahalli           7.945900  ...  293.759576      335.874828  452.713982   \n",
            "Anjanapura         48.634369  ...  264.115685      352.515212  461.687609   \n",
            "\n",
            "Area             Sullia       Kumta       Sagar  Sidlaghatta      Mysore  \\\n",
            "Area                                                                       \n",
            "Byadgi       238.362351  120.011865   76.436668   294.692261  294.524789   \n",
            "Bhatkal      182.935251   51.190677   56.083768   363.714889  294.509676   \n",
            "Sakleshpur    60.659829  221.955554  158.152465   230.356779  118.026970   \n",
            "Indiranagar  248.310460  384.483611  310.814504    52.136244  130.165872   \n",
            "Anekal       251.055196  403.513383  330.143576    77.677211  121.892296   \n",
            "...                 ...         ...         ...          ...         ...   \n",
            "Mudigere      69.562017  195.813267  132.048007   242.177338  143.397908   \n",
            "Udupi        111.653278  125.917681   97.048620   337.224583  236.820626   \n",
            "Ilyas Nagar  239.458372  380.774926  307.200332    62.333612  119.643640   \n",
            "Jalahalli    240.104838  372.006693  298.321287    51.259282  127.082671   \n",
            "Anjanapura   204.527950  364.820272  292.198368   101.246449   79.058472   \n",
            "\n",
            "Area         Mahadevapura   Malavalli  \n",
            "Area                                   \n",
            "Byadgi         304.179119  308.075174  \n",
            "Bhatkal        356.839821  324.354231  \n",
            "Sakleshpur     206.626222  151.331398  \n",
            "Indiranagar      6.060597   90.765476  \n",
            "Anekal          31.684062   78.204806  \n",
            "...                   ...         ...  \n",
            "Mudigere       222.647175  174.681508  \n",
            "Udupi          321.211664  272.179074  \n",
            "Ilyas Nagar     16.443789   80.109709  \n",
            "Jalahalli       16.686159   90.455585  \n",
            "Anjanapura      57.137018   40.383605  \n",
            "\n",
            "[92 rows x 55 columns]\n"
          ]
        }
      ]
    },
    {
      "cell_type": "code",
      "source": [
        "import numpy as np\n",
        "from scipy.optimize import linear_sum_assignment\n",
        "\n",
        "# Assuming distance_matrix is your NxM matrix where N is the number of surplus cities and M is the number of scarcity cities\n",
        "# Ensure your distance matrix is in the form of a numpy array\n",
        "\n",
        "# Using the linear sum assignment method (Hungarian algorithm) from scipy\n",
        "row_ind, col_ind = linear_sum_assignment(distance_matrix)\n",
        "\n",
        "# row_ind contains the indices of the surplus cities\n",
        "# col_ind contains the indices of the assigned scarcity cities\n",
        "\n",
        "# Now you can print the optimal assignments and the corresponding distances\n",
        "total_distance = distance_matrix[row_ind, col_ind].sum()\n",
        "\n",
        "print(\"Optimal assignment:\")\n",
        "for surplus_city_idx, scarcity_city_idx in zip(row_ind, col_ind):\n",
        "    print(f\"Surplus city {surplus_city_idx} -> Scarcity city {scarcity_city_idx} (Distance: {distance_matrix[surplus_city_idx, scarcity_city_idx]} km)\")\n",
        "\n",
        "print(f\"Total distance: {total_distance} km\")\n"
      ],
      "metadata": {
        "id": "pBnp8QGDej_c",
        "colab": {
          "base_uri": "https://localhost:8080/"
        },
        "outputId": "c08190e6-421a-44db-9bbe-a7c9aa229280"
      },
      "execution_count": null,
      "outputs": [
        {
          "output_type": "stream",
          "name": "stdout",
          "text": [
            "Optimal assignment:\n",
            "Surplus city 0 -> Scarcity city 31 (Distance: 13.784870272669957 km)\n",
            "Surplus city 1 -> Scarcity city 49 (Distance: 51.19067665144735 km)\n",
            "Surplus city 2 -> Scarcity city 33 (Distance: 63.740232051622286 km)\n",
            "Surplus city 3 -> Scarcity city 12 (Distance: 0.5692049440781095 km)\n",
            "Surplus city 5 -> Scarcity city 4 (Distance: 25.254955750458784 km)\n",
            "Surplus city 6 -> Scarcity city 37 (Distance: 5.457065004528743 km)\n",
            "Surplus city 8 -> Scarcity city 22 (Distance: 36.32053209722094 km)\n",
            "Surplus city 12 -> Scarcity city 36 (Distance: 76.17758043494142 km)\n",
            "Surplus city 13 -> Scarcity city 9 (Distance: 1.4202948072345238 km)\n",
            "Surplus city 14 -> Scarcity city 17 (Distance: 3.8152839184687335 km)\n",
            "Surplus city 15 -> Scarcity city 5 (Distance: 15.167707082600002 km)\n",
            "Surplus city 16 -> Scarcity city 54 (Distance: 22.124062151206235 km)\n",
            "Surplus city 20 -> Scarcity city 3 (Distance: 31.178775871747543 km)\n",
            "Surplus city 21 -> Scarcity city 29 (Distance: 4.5143976077050585 km)\n",
            "Surplus city 22 -> Scarcity city 15 (Distance: 6.39036858732579 km)\n",
            "Surplus city 24 -> Scarcity city 39 (Distance: 9.616340740221734 km)\n",
            "Surplus city 25 -> Scarcity city 25 (Distance: 2.53901573735099 km)\n",
            "Surplus city 26 -> Scarcity city 6 (Distance: 18.495770278386246 km)\n",
            "Surplus city 27 -> Scarcity city 28 (Distance: 104.78551531598018 km)\n",
            "Surplus city 28 -> Scarcity city 53 (Distance: 1.9117650067156662 km)\n",
            "Surplus city 29 -> Scarcity city 45 (Distance: 0.0 km)\n",
            "Surplus city 30 -> Scarcity city 13 (Distance: 2.0000127447393194 km)\n",
            "Surplus city 33 -> Scarcity city 7 (Distance: 5.772003701019964 km)\n",
            "Surplus city 35 -> Scarcity city 32 (Distance: 53.001687081616865 km)\n",
            "Surplus city 40 -> Scarcity city 27 (Distance: 2.5796197984006 km)\n",
            "Surplus city 41 -> Scarcity city 51 (Distance: 20.493938611482783 km)\n",
            "Surplus city 43 -> Scarcity city 8 (Distance: 4.947502187143376 km)\n",
            "Surplus city 45 -> Scarcity city 42 (Distance: 38.92119998915647 km)\n",
            "Surplus city 47 -> Scarcity city 30 (Distance: 73.7913095033761 km)\n",
            "Surplus city 48 -> Scarcity city 34 (Distance: 20.327796351987597 km)\n",
            "Surplus city 50 -> Scarcity city 38 (Distance: 77.90219906024322 km)\n",
            "Surplus city 51 -> Scarcity city 24 (Distance: 1.9222987590772358 km)\n",
            "Surplus city 53 -> Scarcity city 44 (Distance: 1.7731838521600696 km)\n",
            "Surplus city 54 -> Scarcity city 47 (Distance: 113.93603533975283 km)\n",
            "Surplus city 58 -> Scarcity city 26 (Distance: 64.14234084203964 km)\n",
            "Surplus city 61 -> Scarcity city 0 (Distance: 1.0636601498566995 km)\n",
            "Surplus city 62 -> Scarcity city 35 (Distance: 0.67951426778246 km)\n",
            "Surplus city 64 -> Scarcity city 16 (Distance: 28.51097904835058 km)\n",
            "Surplus city 65 -> Scarcity city 48 (Distance: 0.0 km)\n",
            "Surplus city 66 -> Scarcity city 40 (Distance: 17.03299757373348 km)\n",
            "Surplus city 67 -> Scarcity city 43 (Distance: 0.7537044822128864 km)\n",
            "Surplus city 69 -> Scarcity city 23 (Distance: 105.31545102934936 km)\n",
            "Surplus city 73 -> Scarcity city 14 (Distance: 3.025504893292481 km)\n",
            "Surplus city 76 -> Scarcity city 11 (Distance: 4.744419476437453 km)\n",
            "Surplus city 77 -> Scarcity city 18 (Distance: 6.261734433314407 km)\n",
            "Surplus city 78 -> Scarcity city 21 (Distance: 56.74205039428397 km)\n",
            "Surplus city 79 -> Scarcity city 50 (Distance: 1.5012222097479486 km)\n",
            "Surplus city 80 -> Scarcity city 1 (Distance: 10205.234073224396 km)\n",
            "Surplus city 81 -> Scarcity city 52 (Distance: 13.451992516968767 km)\n",
            "Surplus city 83 -> Scarcity city 20 (Distance: 3.8502504275618694 km)\n",
            "Surplus city 85 -> Scarcity city 46 (Distance: 32.320792796991384 km)\n",
            "Surplus city 86 -> Scarcity city 2 (Distance: 23.485884202763646 km)\n",
            "Surplus city 89 -> Scarcity city 41 (Distance: 5.960290759626787 km)\n",
            "Surplus city 90 -> Scarcity city 19 (Distance: 2.4593887102834078 km)\n",
            "Surplus city 91 -> Scarcity city 10 (Distance: 7.8234674599984215 km)\n",
            "Total distance: 11496.182920191059 km\n"
          ]
        }
      ]
    },
    {
      "cell_type": "code",
      "source": [
        "!pip install pulp"
      ],
      "metadata": {
        "id": "z7Y-9YdEemJm",
        "colab": {
          "base_uri": "https://localhost:8080/"
        },
        "outputId": "d140ddba-04a3-45e0-aa0b-7131a6b11390"
      },
      "execution_count": 29,
      "outputs": [
        {
          "output_type": "stream",
          "name": "stdout",
          "text": [
            "Collecting pulp\n",
            "  Downloading PuLP-2.8.0-py3-none-any.whl (17.7 MB)\n",
            "\u001b[2K     \u001b[90m━━━━━━━━━━━━━━━━━━━━━━━━━━━━━━━━━━━━━━━━\u001b[0m \u001b[32m17.7/17.7 MB\u001b[0m \u001b[31m37.0 MB/s\u001b[0m eta \u001b[36m0:00:00\u001b[0m\n",
            "\u001b[?25hInstalling collected packages: pulp\n",
            "Successfully installed pulp-2.8.0\n"
          ]
        }
      ]
    },
    {
      "cell_type": "code",
      "source": [
        "import numpy as np\n",
        "from pulp import LpMinimize, LpProblem, LpVariable, lpSum, value\n",
        "\n",
        "# Assuming distance_matrix is already defined as a numpy array\n",
        "num_surplus_cities, num_scarcity_cities = distance_matrix.shape\n",
        "\n",
        "# Create the MILP problem\n",
        "prob = LpProblem(\"OptimalAssignment\", LpMinimize)\n",
        "\n",
        "# Define decision variables\n",
        "x = LpVariable.dicts(\"x\", [(i, j) for i in range(num_surplus_cities) for j in range(num_scarcity_cities)],\n",
        "                     cat='Binary')\n",
        "\n",
        "# Objective function: Minimize total distance\n",
        "prob += lpSum(x[i, j] * distance_matrix[i, j] for i in range(num_surplus_cities) for j in range(num_scarcity_cities))\n",
        "\n",
        "# Constraints\n",
        "# Each scarcity city must be visited exactly once\n",
        "for j in range(num_scarcity_cities):\n",
        "    prob += lpSum(x[i, j] for i in range(num_surplus_cities)) == 1\n",
        "\n",
        "# Solve the problem\n",
        "prob.solve()\n",
        "\n",
        "# Print the results\n",
        "print(\"Optimal assignment:\")\n",
        "total_distance = 0\n",
        "for i in range(num_surplus_cities):\n",
        "    for j in range(num_scarcity_cities):\n",
        "        if value(x[i, j]) > 0.5:  # Check if the variable is selected in the optimal solution\n",
        "            print(f\"Surplus city {i} -> Scarcity city {j} (Distance: {distance_matrix[i, j]} km)\")\n",
        "            total_distance += distance_matrix[i, j]\n",
        "\n",
        "print(f\"Total distance: {total_distance} km\")\n"
      ],
      "metadata": {
        "colab": {
          "base_uri": "https://localhost:8080/"
        },
        "id": "mhSNnwzd1O5G",
        "outputId": "7da9529a-05c5-4fae-b998-a8d31516485f"
      },
      "execution_count": 30,
      "outputs": [
        {
          "output_type": "stream",
          "name": "stdout",
          "text": [
            "Optimal assignment:\n",
            "Surplus city 0 -> Scarcity city 31 (Distance: 13.784870272669957 km)\n",
            "Surplus city 1 -> Scarcity city 49 (Distance: 51.19067665144735 km)\n",
            "Surplus city 3 -> Scarcity city 12 (Distance: 0.5692049440781095 km)\n",
            "Surplus city 5 -> Scarcity city 6 (Distance: 11.890194944258305 km)\n",
            "Surplus city 6 -> Scarcity city 4 (Distance: 17.97493348638961 km)\n",
            "Surplus city 6 -> Scarcity city 37 (Distance: 5.457065004528743 km)\n",
            "Surplus city 8 -> Scarcity city 22 (Distance: 36.32053209722094 km)\n",
            "Surplus city 12 -> Scarcity city 23 (Distance: 96.40651044080693 km)\n",
            "Surplus city 12 -> Scarcity city 36 (Distance: 76.17758043494142 km)\n",
            "Surplus city 13 -> Scarcity city 8 (Distance: 2.0351530498785038 km)\n",
            "Surplus city 13 -> Scarcity city 9 (Distance: 1.4202948072345238 km)\n",
            "Surplus city 13 -> Scarcity city 20 (Distance: 3.7650146561962834 km)\n",
            "Surplus city 14 -> Scarcity city 15 (Distance: 2.083720267742117 km)\n",
            "Surplus city 14 -> Scarcity city 17 (Distance: 3.8152839184687335 km)\n",
            "Surplus city 15 -> Scarcity city 5 (Distance: 15.167707082600002 km)\n",
            "Surplus city 15 -> Scarcity city 51 (Distance: 16.174850032471294 km)\n",
            "Surplus city 16 -> Scarcity city 54 (Distance: 22.124062151206235 km)\n",
            "Surplus city 20 -> Scarcity city 3 (Distance: 31.178775871747543 km)\n",
            "Surplus city 20 -> Scarcity city 28 (Distance: 53.910247427138266 km)\n",
            "Surplus city 20 -> Scarcity city 30 (Distance: 25.211068946118864 km)\n",
            "Surplus city 24 -> Scarcity city 39 (Distance: 9.616340740221734 km)\n",
            "Surplus city 27 -> Scarcity city 26 (Distance: 50.26755129742013 km)\n",
            "Surplus city 27 -> Scarcity city 47 (Distance: 95.10828130381945 km)\n",
            "Surplus city 28 -> Scarcity city 25 (Distance: 1.7849948694658966 km)\n",
            "Surplus city 28 -> Scarcity city 53 (Distance: 1.9117650067156662 km)\n",
            "Surplus city 29 -> Scarcity city 45 (Distance: 0.0 km)\n",
            "Surplus city 35 -> Scarcity city 32 (Distance: 53.001687081616865 km)\n",
            "Surplus city 47 -> Scarcity city 21 (Distance: 28.546452685022235 km)\n",
            "Surplus city 48 -> Scarcity city 34 (Distance: 20.327796351987597 km)\n",
            "Surplus city 48 -> Scarcity city 42 (Distance: 34.911169860511784 km)\n",
            "Surplus city 51 -> Scarcity city 41 (Distance: 5.132025573020199 km)\n",
            "Surplus city 53 -> Scarcity city 13 (Distance: 1.6483560119050469 km)\n",
            "Surplus city 53 -> Scarcity city 24 (Distance: 1.6309014108933826 km)\n",
            "Surplus city 53 -> Scarcity city 44 (Distance: 1.7731838521600696 km)\n",
            "Surplus city 54 -> Scarcity city 38 (Distance: 77.62472194729162 km)\n",
            "Surplus city 61 -> Scarcity city 0 (Distance: 1.0636601498566995 km)\n",
            "Surplus city 62 -> Scarcity city 14 (Distance: 0.7802189056952492 km)\n",
            "Surplus city 62 -> Scarcity city 35 (Distance: 0.67951426778246 km)\n",
            "Surplus city 64 -> Scarcity city 16 (Distance: 28.51097904835058 km)\n",
            "Surplus city 65 -> Scarcity city 33 (Distance: 35.48117449369534 km)\n",
            "Surplus city 65 -> Scarcity city 48 (Distance: 0.0 km)\n",
            "Surplus city 66 -> Scarcity city 40 (Distance: 17.03299757373348 km)\n",
            "Surplus city 67 -> Scarcity city 7 (Distance: 3.8790440750504844 km)\n",
            "Surplus city 67 -> Scarcity city 18 (Distance: 2.21598993409605 km)\n",
            "Surplus city 67 -> Scarcity city 19 (Distance: 2.21598993409605 km)\n",
            "Surplus city 67 -> Scarcity city 27 (Distance: 1.3466598916657082 km)\n",
            "Surplus city 67 -> Scarcity city 43 (Distance: 0.7537044822128864 km)\n",
            "Surplus city 76 -> Scarcity city 11 (Distance: 4.744419476437453 km)\n",
            "Surplus city 79 -> Scarcity city 50 (Distance: 1.5012222097479486 km)\n",
            "Surplus city 80 -> Scarcity city 1 (Distance: 10205.234073224396 km)\n",
            "Surplus city 81 -> Scarcity city 52 (Distance: 13.451992516968767 km)\n",
            "Surplus city 83 -> Scarcity city 29 (Distance: 2.5486978531010207 km)\n",
            "Surplus city 85 -> Scarcity city 46 (Distance: 32.320792796991384 km)\n",
            "Surplus city 86 -> Scarcity city 2 (Distance: 23.485884202763646 km)\n",
            "Surplus city 91 -> Scarcity city 10 (Distance: 7.8234674599984215 km)\n",
            "Total distance: 11255.013456975834 km\n"
          ]
        }
      ]
    }
  ]
}